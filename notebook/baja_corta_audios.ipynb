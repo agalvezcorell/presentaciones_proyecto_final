{
 "cells": [
  {
   "cell_type": "code",
   "execution_count": null,
   "metadata": {},
   "outputs": [],
   "source": [
    "#Función para descargar la canción\n",
    "from __future__ import unicode_literals\n",
    "import youtube_dl\n",
    "\n",
    "ydl_opts = {\n",
    "    'format': 'bestaudio/best',\n",
    "    'postprocessors': [{\n",
    "        'key': 'FFmpegExtractAudio',\n",
    "        'preferredcodec': 'mp3',\n",
    "        'preferredquality': '192',\n",
    "    }],\n",
    "}\n",
    "with youtube_dl.YoutubeDL(ydl_opts) as ydl:\n",
    "    ydl.download(['https://www.youtube.com/watch?v=4_7zkXv17QE'])"
   ]
  },
  {
   "cell_type": "code",
   "execution_count": null,
   "metadata": {},
   "outputs": [],
   "source": [
    "#Función de Fer para cortar el audio \n",
    "from pydub import AudioSegment\n",
    "def cutting_audio(file_path, startMin, startSec, endMin, endSec):\n",
    "    # Time to miliseconds\n",
    "    startTime = startMin*60*1000+startSec*1000\n",
    "    endTime = endMin*60*1000+endSec*1000\n",
    "    # Opening file and extracting segment\n",
    "    song = AudioSegment.from_mp3(file_path)\n",
    "    extract = song[startTime:endTime]\n",
    "    # Saving -- choose you path\n",
    "    the_file = extract.export(f\"../Desktop/presentación_datamad1020-rev/songs/{file_path}\", format=\"mp3\")\n",
    "    return the_file"
   ]
  },
  {
   "cell_type": "markdown",
   "metadata": {},
   "source": [
    "Edita el nombre del alumno si estás descargando las canciones en la misma carpeta donde está el notebook para que pille el path. O ponlo a tu gusto."
   ]
  },
  {
   "cell_type": "code",
   "execution_count": null,
   "metadata": {},
   "outputs": [],
   "source": [
    "file_path = \"Santi.mp3\""
   ]
  },
  {
   "cell_type": "code",
   "execution_count": null,
   "metadata": {},
   "outputs": [],
   "source": [
    "#Variable de minutos y segundo para cuando llamemos a la función\n",
    "startMin = 0\n",
    "startSec = 17\n",
    "endMin = 0\n",
    "endSec = 37"
   ]
  },
  {
   "cell_type": "code",
   "execution_count": null,
   "metadata": {},
   "outputs": [],
   "source": [
    "#Llamamos a la función que corta el audio y nos envía el archivo a la carpeta que queremos\n",
    "cutting_audio(file_path, startMin, startSec, endMin, endSec)"
   ]
  }
 ],
 "metadata": {
  "kernelspec": {
   "display_name": "Python 3",
   "language": "python",
   "name": "python3"
  },
  "language_info": {
   "codemirror_mode": {
    "name": "ipython",
    "version": 3
   },
   "file_extension": ".py",
   "mimetype": "text/x-python",
   "name": "python",
   "nbconvert_exporter": "python",
   "pygments_lexer": "ipython3",
   "version": "3.8.5"
  },
  "toc": {
   "base_numbering": 1,
   "nav_menu": {},
   "number_sections": true,
   "sideBar": true,
   "skip_h1_title": true,
   "title_cell": "Table of Contents",
   "title_sidebar": "Contents",
   "toc_cell": false,
   "toc_position": {},
   "toc_section_display": true,
   "toc_window_display": false
  }
 },
 "nbformat": 4,
 "nbformat_minor": 4
}
